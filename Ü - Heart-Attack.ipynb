{
 "cells": [
  {
   "attachments": {},
   "cell_type": "markdown",
   "metadata": {},
   "source": [
    "## Übung Machine Learning 1: Heart Attack - sklearn"
   ]
  },
  {
   "attachments": {},
   "cell_type": "markdown",
   "metadata": {},
   "source": [
    "#### Prof. Dr. Daniela Oelke\n",
    "#### **Ihr Name: Hendrik Stolzke**\n",
    "#### **Ihre Matrikelnummer: 190724**"
   ]
  },
  {
   "attachments": {},
   "cell_type": "markdown",
   "metadata": {},
   "source": [
    "### Informationen zur Aufgabe\n",
    "Lesen Sie sich zunächst das gesamte Notebook durch, damit Sie die Gesamtaufgabe verstehen. \n",
    "\n",
    "Löschen Sie bitte vor der Abgabe unbedingt alle nicht mehr benötigten Zellen, die im Laufe der Zeit für Tests hinzugekommen sind. Bereinigen und kommentieren Sie Ihren Code.  \n",
    "**2 Punkte sind für ein übersichtlich gegliedertes Notebook, gute Rechtschreibung, guter Schreibstil, etc. reserviert! Auch die geforderten Begründungen für die Entscheidungen sowie die schriftlichen Diskussionen werden in diesem Übungsblatt stark bei der Punktevergabe berücksichtigt.**"
   ]
  },
  {
   "attachments": {},
   "cell_type": "markdown",
   "metadata": {},
   "source": [
    "---------------------\n",
    "### Aufgabenstellung\n",
    "\n",
    "Für eine Arztpraxis soll ein System entwickelt werden, mit dem sich das Risiko eines Herzinfarkts einer Person anhand verschiedener Untersuchungen ermitteln lässt.  \n",
    "Zu diesem Zweck wurde ein Datensatz mit Untersuchungsergebnissen verschiedener Personen, zusammen mit deren Risiko einen Herzinfarkt zu erleiden, erhoben.\n",
    "\n",
    "Ihre Aufgabe ist es nun, basierend auf den erhobenen Daten einen Naive Bayes Klassifikator zur Klassifikation des Herzinfarktrisikos einer Person zu trainieren und zu evaluieren."
   ]
  },
  {
   "cell_type": "code",
   "execution_count": 82,
   "metadata": {},
   "outputs": [],
   "source": [
    "# Imports\n",
    "import numpy as np\n",
    "import pandas as pd"
   ]
  },
  {
   "attachments": {},
   "cell_type": "markdown",
   "metadata": {},
   "source": [
    "### Laden des Datensatzes"
   ]
  },
  {
   "cell_type": "code",
   "execution_count": 83,
   "metadata": {},
   "outputs": [
    {
     "data": {
      "text/html": [
       "<div>\n",
       "<style scoped>\n",
       "    .dataframe tbody tr th:only-of-type {\n",
       "        vertical-align: middle;\n",
       "    }\n",
       "\n",
       "    .dataframe tbody tr th {\n",
       "        vertical-align: top;\n",
       "    }\n",
       "\n",
       "    .dataframe thead th {\n",
       "        text-align: right;\n",
       "    }\n",
       "</style>\n",
       "<table border=\"1\" class=\"dataframe\">\n",
       "  <thead>\n",
       "    <tr style=\"text-align: right;\">\n",
       "      <th></th>\n",
       "      <th>age</th>\n",
       "      <th>sex</th>\n",
       "      <th>cp</th>\n",
       "      <th>trestbps</th>\n",
       "      <th>chol</th>\n",
       "      <th>fbs</th>\n",
       "      <th>restecg</th>\n",
       "      <th>thalach</th>\n",
       "      <th>exang</th>\n",
       "      <th>oldpeak</th>\n",
       "      <th>slope</th>\n",
       "      <th>ca</th>\n",
       "      <th>thal</th>\n",
       "      <th>target</th>\n",
       "    </tr>\n",
       "  </thead>\n",
       "  <tbody>\n",
       "    <tr>\n",
       "      <th>0</th>\n",
       "      <td>63</td>\n",
       "      <td>male</td>\n",
       "      <td>3</td>\n",
       "      <td>145</td>\n",
       "      <td>233</td>\n",
       "      <td>True</td>\n",
       "      <td>0</td>\n",
       "      <td>150</td>\n",
       "      <td>no</td>\n",
       "      <td>2.3</td>\n",
       "      <td>0</td>\n",
       "      <td>0</td>\n",
       "      <td>1</td>\n",
       "      <td>high risk</td>\n",
       "    </tr>\n",
       "    <tr>\n",
       "      <th>1</th>\n",
       "      <td>37</td>\n",
       "      <td>male</td>\n",
       "      <td>2</td>\n",
       "      <td>130</td>\n",
       "      <td>250</td>\n",
       "      <td>False</td>\n",
       "      <td>1</td>\n",
       "      <td>187</td>\n",
       "      <td>no</td>\n",
       "      <td>3.5</td>\n",
       "      <td>0</td>\n",
       "      <td>0</td>\n",
       "      <td>2</td>\n",
       "      <td>high risk</td>\n",
       "    </tr>\n",
       "    <tr>\n",
       "      <th>2</th>\n",
       "      <td>41</td>\n",
       "      <td>female</td>\n",
       "      <td>1</td>\n",
       "      <td>130</td>\n",
       "      <td>204</td>\n",
       "      <td>False</td>\n",
       "      <td>0</td>\n",
       "      <td>172</td>\n",
       "      <td>no</td>\n",
       "      <td>1.4</td>\n",
       "      <td>2</td>\n",
       "      <td>0</td>\n",
       "      <td>2</td>\n",
       "      <td>high risk</td>\n",
       "    </tr>\n",
       "    <tr>\n",
       "      <th>3</th>\n",
       "      <td>56</td>\n",
       "      <td>male</td>\n",
       "      <td>1</td>\n",
       "      <td>120</td>\n",
       "      <td>236</td>\n",
       "      <td>False</td>\n",
       "      <td>1</td>\n",
       "      <td>178</td>\n",
       "      <td>no</td>\n",
       "      <td>0.8</td>\n",
       "      <td>2</td>\n",
       "      <td>0</td>\n",
       "      <td>2</td>\n",
       "      <td>high risk</td>\n",
       "    </tr>\n",
       "    <tr>\n",
       "      <th>4</th>\n",
       "      <td>57</td>\n",
       "      <td>female</td>\n",
       "      <td>0</td>\n",
       "      <td>120</td>\n",
       "      <td>354</td>\n",
       "      <td>False</td>\n",
       "      <td>1</td>\n",
       "      <td>163</td>\n",
       "      <td>yes</td>\n",
       "      <td>0.6</td>\n",
       "      <td>2</td>\n",
       "      <td>0</td>\n",
       "      <td>2</td>\n",
       "      <td>high risk</td>\n",
       "    </tr>\n",
       "  </tbody>\n",
       "</table>\n",
       "</div>"
      ],
      "text/plain": [
       "   age     sex  cp  trestbps  chol    fbs  restecg  thalach exang  oldpeak  \\\n",
       "0   63    male   3       145   233   True        0      150    no      2.3   \n",
       "1   37    male   2       130   250  False        1      187    no      3.5   \n",
       "2   41  female   1       130   204  False        0      172    no      1.4   \n",
       "3   56    male   1       120   236  False        1      178    no      0.8   \n",
       "4   57  female   0       120   354  False        1      163   yes      0.6   \n",
       "\n",
       "   slope  ca  thal     target  \n",
       "0      0   0     1  high risk  \n",
       "1      0   0     2  high risk  \n",
       "2      2   0     2  high risk  \n",
       "3      2   0     2  high risk  \n",
       "4      2   0     2  high risk  "
      ]
     },
     "execution_count": 83,
     "metadata": {},
     "output_type": "execute_result"
    }
   ],
   "source": [
    "# Laden des \"heart\" Datensatzes\n",
    "data = pd.read_csv('./DATA/heart.csv')\n",
    "data.head()"
   ]
  },
  {
   "cell_type": "code",
   "execution_count": 84,
   "metadata": {},
   "outputs": [
    {
     "data": {
      "text/plain": [
       "<Figure size 800x600 with 0 Axes>"
      ]
     },
     "metadata": {},
     "output_type": "display_data"
    },
    {
     "data": {
      "image/png": "[encoded data removed]",
      "text/plain": [
       "<Figure size 640x480 with 1 Axes>"
      ]
     },
     "metadata": {},
     "output_type": "display_data"
    }
   ],
   "source": [
    "import pandas as pd\n",
    "import matplotlib.pyplot as plt\n",
    "\n",
    "# Laden des \"heart\" Datensatzes\n",
    "data = pd.read_csv('./DATA/heart.csv')\n",
    "\n",
    "# Balkendiagramm für die Risikospalte aufgeschlüsselt nach Geschlecht erstellen\n",
    "plt.figure(figsize=(8, 6))\n",
    "\n",
    "# Gruppierung nach Geschlecht und Zählen der Risiken\n",
    "grouped = data.groupby(['sex'])['target'].value_counts().unstack()\n",
    "\n",
    "# Erstellung von Balkendiagrammen\n",
    "grouped.plot(kind='bar', color=['salmon', 'skyblue'], alpha=0.7)\n",
    "plt.title('Heart Attack')\n",
    "plt.xlabel('sex')\n",
    "plt.ylabel('count')\n",
    "plt.xticks(rotation=0)\n",
    "plt.legend(title='risk')\n",
    "plt.tight_layout()\n",
    "plt.show()\n"
   ]
  },
  {
   "attachments": {},
   "cell_type": "markdown",
   "metadata": {},
   "source": [
    "### Teil 1: Untersuchung des Datensatzes (4 Punkte)\n",
    "\n",
    "Machen Sie sich durch zusammenfassende Statistiken / Graphiken / Lesen der Informationen zu den Attributen usw. mit den Daten vertraut. Fassen Sie wichtige Erkenntnisse, auf deren Basis Sie später weitere Entscheidungen für die verwendeten Methoden treffen, jeweils kurz in einer Markdown-Zelle zusammen.  \n",
    "(Hinweis: Mit den \"weiteren Entscheidungen\" sind so Dinge gemeint wie, ob Sie eine Normalisierung brauchen und falls ja, welche; ob Encodings geändert werden müssen und falls ja, welche Art von Encoding verwendet werden müsste; auf welchen Spalten das jeweils angewendet werden sollte; welche Art des Samplings Sie verwenden sollten usw. Überlegen Sie: Welche Informationen über die Daten müssen Sie haben, um diese Entscheidungen später gut treffen zu können?)"
   ]
  },
  {
   "cell_type": "code",
   "execution_count": 85,
   "metadata": {},
   "outputs": [
    {
     "data": {
      "text/plain": [
       "4242"
      ]
     },
     "execution_count": 85,
     "metadata": {},
     "output_type": "execute_result"
    }
   ],
   "source": [
    "data.size"
   ]
  },
  {
   "attachments": {},
   "cell_type": "markdown",
   "metadata": {},
   "source": [
    "Mit 'size' kann ich herausfinden, wie groß der Datensatz tatsächlich ist. Die Größe beträgt 4242 Daten."
   ]
  },
  {
   "cell_type": "code",
   "execution_count": 86,
   "metadata": {},
   "outputs": [
    {
     "data": {
      "text/html": [
       "<div>\n",
       "<style scoped>\n",
       "    .dataframe tbody tr th:only-of-type {\n",
       "        vertical-align: middle;\n",
       "    }\n",
       "\n",
       "    .dataframe tbody tr th {\n",
       "        vertical-align: top;\n",
       "    }\n",
       "\n",
       "    .dataframe thead th {\n",
       "        text-align: right;\n",
       "    }\n",
       "</style>\n",
       "<table border=\"1\" class=\"dataframe\">\n",
       "  <thead>\n",
       "    <tr style=\"text-align: right;\">\n",
       "      <th></th>\n",
       "      <th>age</th>\n",
       "      <th>sex</th>\n",
       "      <th>cp</th>\n",
       "      <th>trestbps</th>\n",
       "      <th>chol</th>\n",
       "      <th>fbs</th>\n",
       "      <th>restecg</th>\n",
       "      <th>thalach</th>\n",
       "      <th>exang</th>\n",
       "      <th>oldpeak</th>\n",
       "      <th>slope</th>\n",
       "      <th>ca</th>\n",
       "      <th>thal</th>\n",
       "      <th>target</th>\n",
       "    </tr>\n",
       "  </thead>\n",
       "  <tbody>\n",
       "    <tr>\n",
       "      <th>0</th>\n",
       "      <td>63</td>\n",
       "      <td>male</td>\n",
       "      <td>3</td>\n",
       "      <td>145</td>\n",
       "      <td>233</td>\n",
       "      <td>True</td>\n",
       "      <td>0</td>\n",
       "      <td>150</td>\n",
       "      <td>no</td>\n",
       "      <td>2.3</td>\n",
       "      <td>0</td>\n",
       "      <td>0</td>\n",
       "      <td>1</td>\n",
       "      <td>high risk</td>\n",
       "    </tr>\n",
       "    <tr>\n",
       "      <th>1</th>\n",
       "      <td>37</td>\n",
       "      <td>male</td>\n",
       "      <td>2</td>\n",
       "      <td>130</td>\n",
       "      <td>250</td>\n",
       "      <td>False</td>\n",
       "      <td>1</td>\n",
       "      <td>187</td>\n",
       "      <td>no</td>\n",
       "      <td>3.5</td>\n",
       "      <td>0</td>\n",
       "      <td>0</td>\n",
       "      <td>2</td>\n",
       "      <td>high risk</td>\n",
       "    </tr>\n",
       "    <tr>\n",
       "      <th>2</th>\n",
       "      <td>41</td>\n",
       "      <td>female</td>\n",
       "      <td>1</td>\n",
       "      <td>130</td>\n",
       "      <td>204</td>\n",
       "      <td>False</td>\n",
       "      <td>0</td>\n",
       "      <td>172</td>\n",
       "      <td>no</td>\n",
       "      <td>1.4</td>\n",
       "      <td>2</td>\n",
       "      <td>0</td>\n",
       "      <td>2</td>\n",
       "      <td>high risk</td>\n",
       "    </tr>\n",
       "  </tbody>\n",
       "</table>\n",
       "</div>"
      ],
      "text/plain": [
       "   age     sex  cp  trestbps  chol    fbs  restecg  thalach exang  oldpeak  \\\n",
       "0   63    male   3       145   233   True        0      150    no      2.3   \n",
       "1   37    male   2       130   250  False        1      187    no      3.5   \n",
       "2   41  female   1       130   204  False        0      172    no      1.4   \n",
       "\n",
       "   slope  ca  thal     target  \n",
       "0      0   0     1  high risk  \n",
       "1      0   0     2  high risk  \n",
       "2      2   0     2  high risk  "
      ]
     },
     "execution_count": 86,
     "metadata": {},
     "output_type": "execute_result"
    }
   ],
   "source": [
    "data.head(3)"
   ]
  },
  {
   "attachments": {},
   "cell_type": "markdown",
   "metadata": {},
   "source": [
    "Ordinal Encoding:\n",
    "\n",
    "Anhand des Datensatzes wäre es besonders vorteilhaft, wenn alle Merkmale binär vorliegen würde, wobei 1 für 'True' und 0 für 'False' steht. Dieses Verfahren wird in der Fachsprache Encoding bezeichnet.\n",
    "Um sicherzustellen, dass alles perfekt vorliegt, müssen wir die einzelnen Merkmale analysieren. Nehmen wir zum Beispiel das Merkmal Geschlecht. Statt 'female' und 'male' kann eine ordinale Codierung verwendet werden, bei der '1' für 'female' und '0' für 'male' steht. Ähnlich vorteilhaft kann dies auch für die Merkmale 'fbs', 'exang' und 'target' sein. Wobei 'target' als Zielmerkmal gesondert zu behandeln ist. In unserem Fall muss das 'target' nicht extra Umgewandelt werden, da die Pipeline dies bereits automatisch macht. Dies wurde erst seit einem neuen Update ermöglicht. Ansonsten gibt es hierführ speziell den Label Encoder."
   ]
  },
  {
   "attachments": {},
   "cell_type": "markdown",
   "metadata": {},
   "source": [
    "One-Hot-Encoding:\n",
    "\n",
    "Bei Merkmalen, die mehr als 2 Zustände haben wird One-Hot-Encoding verwendet. Dabei werden für jedes Untermerkmal neue Spalten erstellt. Beispiel: Das Ergebnis des Ruhe-Elektrokardiogramms. Dieses Merkmal kann eine von drei möglichen Zuständen aufweisen, die in unserem Datensatz mit den Zahlen 0, 1 und 2 bezeichnet sind. \n",
    "Wenn der Zustand 0 vorliegt, also bei einem Patienten auftritt, wird in der Spalte für Zustand 0 eine 1 eingetragen, während in den beiden anderen Zustandsspalten eine 0 steht. Dies wird auch auf alle anderen Zustandsspalten angewendet. Auf diese Weise wird das Merkmal 'restecg' im Datensatz codiert. Im Datensatz gibt es weitere Merkmale, die sich für die One-Hot-Encoding eignen. Ich würde dies auch auf 'ca', 'thal', 'slope' und 'cp' anwenden, da hier mehr als nur True oder False gibt. Mit mehr als 2 Zuständen!"
   ]
  },
  {
   "attachments": {},
   "cell_type": "markdown",
   "metadata": {},
   "source": [
    "Normalisierung:\n",
    "\n",
    "Die Datentypen, die einen größeren Wertebereich mit mehreren Zustände (stetig und nicht mehr diskret) haben, wie das Alter 'age', 'trestbps', 'chol', 'thalach' und 'oldpeak', sollten mit der Min/Max-Funktion normalisiert werden. Eine Normalisierung ist hier besonders sinnvoll, da hier aus hohen, kleinen usw. Werten wie zum Beispiel beim Alter zwischen 0 und 100+ auf einen Bereich zwischen 0 und 1 skaliert werden kann. "
   ]
  },
  {
   "cell_type": "code",
   "execution_count": 87,
   "metadata": {},
   "outputs": [
    {
     "data": {
      "text/html": [
       "<div>\n",
       "<style scoped>\n",
       "    .dataframe tbody tr th:only-of-type {\n",
       "        vertical-align: middle;\n",
       "    }\n",
       "\n",
       "    .dataframe tbody tr th {\n",
       "        vertical-align: top;\n",
       "    }\n",
       "\n",
       "    .dataframe thead th {\n",
       "        text-align: right;\n",
       "    }\n",
       "</style>\n",
       "<table border=\"1\" class=\"dataframe\">\n",
       "  <thead>\n",
       "    <tr style=\"text-align: right;\">\n",
       "      <th></th>\n",
       "      <th>age</th>\n",
       "      <th>cp</th>\n",
       "      <th>trestbps</th>\n",
       "      <th>chol</th>\n",
       "      <th>restecg</th>\n",
       "      <th>thalach</th>\n",
       "      <th>oldpeak</th>\n",
       "      <th>slope</th>\n",
       "      <th>ca</th>\n",
       "      <th>thal</th>\n",
       "    </tr>\n",
       "  </thead>\n",
       "  <tbody>\n",
       "    <tr>\n",
       "      <th>count</th>\n",
       "      <td>303.000000</td>\n",
       "      <td>303.000000</td>\n",
       "      <td>303.000000</td>\n",
       "      <td>303.000000</td>\n",
       "      <td>303.000000</td>\n",
       "      <td>303.000000</td>\n",
       "      <td>303.000000</td>\n",
       "      <td>303.000000</td>\n",
       "      <td>303.000000</td>\n",
       "      <td>303.000000</td>\n",
       "    </tr>\n",
       "    <tr>\n",
       "      <th>mean</th>\n",
       "      <td>54.366337</td>\n",
       "      <td>0.966997</td>\n",
       "      <td>131.623762</td>\n",
       "      <td>246.264026</td>\n",
       "      <td>0.528053</td>\n",
       "      <td>149.646865</td>\n",
       "      <td>1.039604</td>\n",
       "      <td>1.399340</td>\n",
       "      <td>0.729373</td>\n",
       "      <td>2.313531</td>\n",
       "    </tr>\n",
       "    <tr>\n",
       "      <th>std</th>\n",
       "      <td>9.082101</td>\n",
       "      <td>1.032052</td>\n",
       "      <td>17.538143</td>\n",
       "      <td>51.830751</td>\n",
       "      <td>0.525860</td>\n",
       "      <td>22.905161</td>\n",
       "      <td>1.161075</td>\n",
       "      <td>0.616226</td>\n",
       "      <td>1.022606</td>\n",
       "      <td>0.612277</td>\n",
       "    </tr>\n",
       "    <tr>\n",
       "      <th>min</th>\n",
       "      <td>29.000000</td>\n",
       "      <td>0.000000</td>\n",
       "      <td>94.000000</td>\n",
       "      <td>126.000000</td>\n",
       "      <td>0.000000</td>\n",
       "      <td>71.000000</td>\n",
       "      <td>0.000000</td>\n",
       "      <td>0.000000</td>\n",
       "      <td>0.000000</td>\n",
       "      <td>0.000000</td>\n",
       "    </tr>\n",
       "    <tr>\n",
       "      <th>25%</th>\n",
       "      <td>47.500000</td>\n",
       "      <td>0.000000</td>\n",
       "      <td>120.000000</td>\n",
       "      <td>211.000000</td>\n",
       "      <td>0.000000</td>\n",
       "      <td>133.500000</td>\n",
       "      <td>0.000000</td>\n",
       "      <td>1.000000</td>\n",
       "      <td>0.000000</td>\n",
       "      <td>2.000000</td>\n",
       "    </tr>\n",
       "    <tr>\n",
       "      <th>50%</th>\n",
       "      <td>55.000000</td>\n",
       "      <td>1.000000</td>\n",
       "      <td>130.000000</td>\n",
       "      <td>240.000000</td>\n",
       "      <td>1.000000</td>\n",
       "      <td>153.000000</td>\n",
       "      <td>0.800000</td>\n",
       "      <td>1.000000</td>\n",
       "      <td>0.000000</td>\n",
       "      <td>2.000000</td>\n",
       "    </tr>\n",
       "    <tr>\n",
       "      <th>75%</th>\n",
       "      <td>61.000000</td>\n",
       "      <td>2.000000</td>\n",
       "      <td>140.000000</td>\n",
       "      <td>274.500000</td>\n",
       "      <td>1.000000</td>\n",
       "      <td>166.000000</td>\n",
       "      <td>1.600000</td>\n",
       "      <td>2.000000</td>\n",
       "      <td>1.000000</td>\n",
       "      <td>3.000000</td>\n",
       "    </tr>\n",
       "    <tr>\n",
       "      <th>max</th>\n",
       "      <td>77.000000</td>\n",
       "      <td>3.000000</td>\n",
       "      <td>200.000000</td>\n",
       "      <td>564.000000</td>\n",
       "      <td>2.000000</td>\n",
       "      <td>202.000000</td>\n",
       "      <td>6.200000</td>\n",
       "      <td>2.000000</td>\n",
       "      <td>4.000000</td>\n",
       "      <td>3.000000</td>\n",
       "    </tr>\n",
       "  </tbody>\n",
       "</table>\n",
       "</div>"
      ],
      "text/plain": [
       "              age          cp    trestbps        chol     restecg     thalach  \\\n",
       "count  303.000000  303.000000  303.000000  303.000000  303.000000  303.000000   \n",
       "mean    54.366337    0.966997  131.623762  246.264026    0.528053  149.646865   \n",
       "std      9.082101    1.032052   17.538143   51.830751    0.525860   22.905161   \n",
       "min     29.000000    0.000000   94.000000  126.000000    0.000000   71.000000   \n",
       "25%     47.500000    0.000000  120.000000  211.000000    0.000000  133.500000   \n",
       "50%     55.000000    1.000000  130.000000  240.000000    1.000000  153.000000   \n",
       "75%     61.000000    2.000000  140.000000  274.500000    1.000000  166.000000   \n",
       "max     77.000000    3.000000  200.000000  564.000000    2.000000  202.000000   \n",
       "\n",
       "          oldpeak       slope          ca        thal  \n",
       "count  303.000000  303.000000  303.000000  303.000000  \n",
       "mean     1.039604    1.399340    0.729373    2.313531  \n",
       "std      1.161075    0.616226    1.022606    0.612277  \n",
       "min      0.000000    0.000000    0.000000    0.000000  \n",
       "25%      0.000000    1.000000    0.000000    2.000000  \n",
       "50%      0.800000    1.000000    0.000000    2.000000  \n",
       "75%      1.600000    2.000000    1.000000    3.000000  \n",
       "max      6.200000    2.000000    4.000000    3.000000  "
      ]
     },
     "execution_count": 87,
     "metadata": {},
     "output_type": "execute_result"
    }
   ],
   "source": [
    "data.describe()"
   ]
  },
  {
   "attachments": {},
   "cell_type": "markdown",
   "metadata": {},
   "source": [
    "Durch '.describe()' kann ich statistisch herausfinden, bei welchen der Merkmale welches Encoding am effektivsten wäre. Meine Entscheidungen mache ich abhängig von den Werten des arithmetischen Mittels, der Standardabweichung, der Quartilen, des Minimum und Maximum. Zusätzlich schaue ich mir den Datensatz selbst an, um direkt festzustellen, ob die Merkmale ordinal, nominal, kategorisch oder metrisch sind, basierend auf den durch '.dtypes' angezeigten Datentypen der einzelnen Merkmale. Anhand dieser Informationen kann ich die Auswahl der Zuordnung der Encodings treffen, wie oben bei den verschiedenen Encoding-Arten beschrieben."
   ]
  },
  {
   "cell_type": "code",
   "execution_count": 88,
   "metadata": {},
   "outputs": [
    {
     "data": {
      "text/plain": [
       "age           int64\n",
       "sex          object\n",
       "cp            int64\n",
       "trestbps      int64\n",
       "chol          int64\n",
       "fbs            bool\n",
       "restecg       int64\n",
       "thalach       int64\n",
       "exang        object\n",
       "oldpeak     float64\n",
       "slope         int64\n",
       "ca            int64\n",
       "thal          int64\n",
       "target       object\n",
       "dtype: object"
      ]
     },
     "execution_count": 88,
     "metadata": {},
     "output_type": "execute_result"
    }
   ],
   "source": [
    "data.dtypes"
   ]
  },
  {
   "cell_type": "code",
   "execution_count": 89,
   "metadata": {},
   "outputs": [
    {
     "data": {
      "text/plain": [
       "count           303\n",
       "unique            2\n",
       "top       high risk\n",
       "freq            165\n",
       "Name: target, dtype: object"
      ]
     },
     "execution_count": 89,
     "metadata": {},
     "output_type": "execute_result"
    }
   ],
   "source": [
    "data.target.describe()"
   ]
  },
  {
   "attachments": {},
   "cell_type": "markdown",
   "metadata": {},
   "source": [
    "Durch Auswahl des Merkmals, kann auch die statistische Eigenschaft wieder mit '.describe()' aufgezeigt werden."
   ]
  },
  {
   "attachments": {},
   "cell_type": "markdown",
   "metadata": {},
   "source": [
    "### Teil 2: Vorbereitung des Datensatzes (2 Punkte)\n",
    "\n",
    "Bereiten Sie den Datensatz zur weiteren Verarbeitung vor:\n",
    "* Teilen Sie die Daten in Features (X) und Zielvariable (y) auf.\n",
    "* Teilen Sie die Daten in Test- und Trainingsdaten auf."
   ]
  },
  {
   "attachments": {},
   "cell_type": "markdown",
   "metadata": {},
   "source": [
    "Zuerst würde ich den Datensatz aufspalten auf y die Zielvariable und der Rest auf X als Feature. "
   ]
  },
  {
   "cell_type": "code",
   "execution_count": 90,
   "metadata": {},
   "outputs": [
    {
     "name": "stdout",
     "output_type": "stream",
     "text": [
      "X:\n",
      "    age     sex  cp  trestbps  chol    fbs  restecg  thalach exang  oldpeak  \\\n",
      "0   63    male   3       145   233   True        0      150    no      2.3   \n",
      "1   37    male   2       130   250  False        1      187    no      3.5   \n",
      "2   41  female   1       130   204  False        0      172    no      1.4   \n",
      "\n",
      "   slope  ca  thal  \n",
      "0      0   0     1  \n",
      "1      0   0     2  \n",
      "2      2   0     2   \n",
      "\n",
      "y:\n",
      " 0    high risk\n",
      "1    high risk\n",
      "2    high risk\n",
      "Name: target, dtype: object\n"
     ]
    }
   ],
   "source": [
    "X = data.drop('target', axis=1)\n",
    "y = data.target\n",
    "print('X:\\n', X.head(3),'\\n\\ny:\\n', y.head(3))"
   ]
  },
  {
   "attachments": {},
   "cell_type": "markdown",
   "metadata": {},
   "source": [
    "Ich habe die oberen drei Zeilen des neuen Datensatzes ausgegeben.\n",
    "Daraus kann man sehen, dass alle Merkmale erhalten geblieben sind. Jedoch wurde das Merkmal 'target' aus dem Datensatz in einer neuen Variablen y gespeichert, während die Variable X nun dieses Merkmal nicht mehr enthält. Die Variable X enthält nun alle Merkmale/Features, die der Algorithmus lernen soll, um eine Entscheidung y zu treffen. Diese Entscheidung gibt beispielsweise einem Arzt Auskunft darüber, ob der betroffene Patient ein hohes Risiko für einen Herzinfarkt hat oder nicht."
   ]
  },
  {
   "attachments": {},
   "cell_type": "markdown",
   "metadata": {},
   "source": [
    "Nun gilt es die Datensätze X und y in jeweils Test- und Trainingsdatensätze aufzuteilen. Am Ende sollten 4 Datensätze vorliegen."
   ]
  },
  {
   "cell_type": "code",
   "execution_count": 91,
   "metadata": {},
   "outputs": [],
   "source": [
    "from sklearn.model_selection import train_test_split\n",
    "\n",
    "X_train, X_test, y_train, y_test = train_test_split(X, y, test_size=0.1, random_state=1)"
   ]
  },
  {
   "attachments": {},
   "cell_type": "markdown",
   "metadata": {},
   "source": [
    "Ich habe mich dafür entschieden, den Datensatz in ein 90 zu 10 Verhältnis aufzuteilen. Das bedeutet, dass 90% der Daten für das Training des Systems verwendet werden und die verbleibenden 10% zum Evaluieren und Testen des trainierten Systems dient.\n",
    " \n",
    "Mit Random State wird eine Deterministische Ausführung des Codes möglich. Dies bezieht sich beim Split in erster Linie auf die gleiche Abspaltung der Daten, damit diese immer gleich bleibt bei jeder Ausführung. "
   ]
  },
  {
   "attachments": {},
   "cell_type": "markdown",
   "metadata": {},
   "source": [
    "### Teil 3: Erzeugung einer Pipeline (7 Punkte)\n",
    "\n",
    "Erzeugen Sie eine Pipeline zur Bearbeitung des Datensatzes.\n",
    "\n",
    "Die Pipeline soll:\n",
    "1. alle erforderliche Vorverarbeitungsschritte beinhalten (wie das Ändern des **Encodings** oder die **Normalisierung** einzelner Spalten, ggf. aber auch weitere Vorverarbeitungen)\n",
    "2. eine Klassifikation anhand des Naive-Bayes Klassifikators durchführen\n",
    "\n",
    "Überlegen Sie bitte jeweils, welche der unterschiedlichen in der Vorlesung eingeführten Methoden zur Datenvorverarbeitung für die vorliegenden Daten sinnvoll sind. Kommentieren Sie Ihren Code und begründen Sie Ihre Entscheidungen. Achten Sie auf die korrekte Reihenfolge der durchzuführenden Aktionen!\n",
    "\n",
    "*sklearn* stellt eine Auswahl an verschiedenen Naive Bayes Ansätzen zur Verfügung: https://scikit-learn.org/stable/modules/naive_bayes.html. Nutzen Sie den *Gaussian Naive Bayes* Ansatz. "
   ]
  },
  {
   "attachments": {},
   "cell_type": "markdown",
   "metadata": {},
   "source": [
    "Ich habe unter Teil 1 den Datensatz Untersucht und bin auf den Entschluss gekommen, dass zum Encoden des Datensatzes ein Ordinaler Encoder, ein OneHot Encoder und zur Normalisierung ein MinMaxScaler verwendet werden soll. Diese werden über 'sklearn.preprocessing' importiert. \n",
    "\n",
    "\n",
    "\n",
    "Um alle Encodings in einer Pipeline anwenden zu können, habe ich mich für den ColumnTransformer entschieden. Diesen importiere ich über '.compose' und fülle ihn mit den zu änderenden Merkmalen/Features und dem entsprechenden Encoding-Typ."
   ]
  },
  {
   "cell_type": "code",
   "execution_count": 92,
   "metadata": {},
   "outputs": [],
   "source": [
    "from sklearn.compose import ColumnTransformer\n",
    "from sklearn.preprocessing import OrdinalEncoder, OneHotEncoder, MinMaxScaler\n",
    "\n",
    "cTransform = ColumnTransformer(transformers=[\n",
    "    ('Ordinal', OrdinalEncoder(), ['sex','fbs','exang']),\n",
    "    ('OneHot', OneHotEncoder(sparse=True), ['ca', 'thal', 'restecg', 'slope', 'cp']),\n",
    "    ('Normalisierung', MinMaxScaler(),['age', 'trestbps', 'chol', 'thalach', 'oldpeak'])\n",
    "])"
   ]
  },
  {
   "attachments": {},
   "cell_type": "markdown",
   "metadata": {},
   "source": [
    "Ich habe vor den Column Transformer als ersten Schritt in meiner Pipeline aufzurufen. Dies ist notwendig, um die Daten vorzuverarbeiten, bevor der Gaussian Naive Bayes-Schritt durchgeführt wird, da dieser die Daten in der Form nach dem Encoding und der Normalisierung benötigt."
   ]
  },
  {
   "cell_type": "code",
   "execution_count": 93,
   "metadata": {
    "tags": []
   },
   "outputs": [],
   "source": [
    "from sklearn.pipeline import make_pipeline\n",
    "from sklearn.naive_bayes import GaussianNB\n",
    "\n",
    "nbay= GaussianNB()\n",
    "pipeline = make_pipeline(cTransform,nbay)\n"
   ]
  },
  {
   "attachments": {},
   "cell_type": "markdown",
   "metadata": {},
   "source": [
    "Durch die Verwendung von 'sklearn.pipeline' und '.naive_bayes' importiere ich nun 'make_pipeline' für die Pipeline und den zu verwendenen Gaussian Naives Bayes-Ansatz. \n",
    "\n",
    "Zuallererst deklariere ich die neue Pipeline und übergebe dann den Vorverarbeitungsschritt vom ColumnsTranformer als ersten Schritt und den Gaussian Naive Bayes als zweiten Schritt."
   ]
  },
  {
   "attachments": {},
   "cell_type": "markdown",
   "metadata": {},
   "source": [
    "Als nächstes passen wir die pipeline mit dem '.fit'-Aufruf an und übergeben die Trainingsdaten X und y aus dem Datensatz."
   ]
  },
  {
   "cell_type": "code",
   "execution_count": 94,
   "metadata": {},
   "outputs": [
    {
     "name": "stderr",
     "output_type": "stream",
     "text": [
      "c:\\Users\\hendr\\anaconda3\\envs\\projekt1\\lib\\site-packages\\sklearn\\preprocessing\\_encoders.py:972: FutureWarning: `sparse` was renamed to `sparse_output` in version 1.2 and will be removed in 1.4. `sparse_output` is ignored unless you leave `sparse` to its default value.\n",
      "  warnings.warn(\n"
     ]
    },
    {
     "data": {
      "text/html": [
       "<style>#sk-container-id-9 {color: black;}#sk-container-id-9 pre{padding: 0;}#sk-container-id-9 div.sk-toggleable {background-color: white;}#sk-container-id-9 label.sk-toggleable__label {cursor: pointer;display: block;width: 100%;margin-bottom: 0;padding: 0.3em;box-sizing: border-box;text-align: center;}#sk-container-id-9 label.sk-toggleable__label-arrow:before {content: \"▸\";float: left;margin-right: 0.25em;color: #696969;}#sk-container-id-9 label.sk-toggleable__label-arrow:hover:before {color: black;}#sk-container-id-9 div.sk-estimator:hover label.sk-toggleable__label-arrow:before {color: black;}#sk-container-id-9 div.sk-toggleable__content {max-height: 0;max-width: 0;overflow: hidden;text-align: left;background-color: #f0f8ff;}#sk-container-id-9 div.sk-toggleable__content pre {margin: 0.2em;color: black;border-radius: 0.25em;background-color: #f0f8ff;}#sk-container-id-9 input.sk-toggleable__control:checked~div.sk-toggleable__content {max-height: 200px;max-width: 100%;overflow: auto;}#sk-container-id-9 input.sk-toggleable__control:checked~label.sk-toggleable__label-arrow:before {content: \"▾\";}#sk-container-id-9 div.sk-estimator input.sk-toggleable__control:checked~label.sk-toggleable__label {background-color: #d4ebff;}#sk-container-id-9 div.sk-label input.sk-toggleable__control:checked~label.sk-toggleable__label {background-color: #d4ebff;}#sk-container-id-9 input.sk-hidden--visually {border: 0;clip: rect(1px 1px 1px 1px);clip: rect(1px, 1px, 1px, 1px);height: 1px;margin: -1px;overflow: hidden;padding: 0;position: absolute;width: 1px;}#sk-container-id-9 div.sk-estimator {font-family: monospace;background-color: #f0f8ff;border: 1px dotted black;border-radius: 0.25em;box-sizing: border-box;margin-bottom: 0.5em;}#sk-container-id-9 div.sk-estimator:hover {background-color: #d4ebff;}#sk-container-id-9 div.sk-parallel-item::after {content: \"\";width: 100%;border-bottom: 1px solid gray;flex-grow: 1;}#sk-container-id-9 div.sk-label:hover label.sk-toggleable__label {background-color: #d4ebff;}#sk-container-id-9 div.sk-serial::before {content: \"\";position: absolute;border-left: 1px solid gray;box-sizing: border-box;top: 0;bottom: 0;left: 50%;z-index: 0;}#sk-container-id-9 div.sk-serial {display: flex;flex-direction: column;align-items: center;background-color: white;padding-right: 0.2em;padding-left: 0.2em;position: relative;}#sk-container-id-9 div.sk-item {position: relative;z-index: 1;}#sk-container-id-9 div.sk-parallel {display: flex;align-items: stretch;justify-content: center;background-color: white;position: relative;}#sk-container-id-9 div.sk-item::before, #sk-container-id-9 div.sk-parallel-item::before {content: \"\";position: absolute;border-left: 1px solid gray;box-sizing: border-box;top: 0;bottom: 0;left: 50%;z-index: -1;}#sk-container-id-9 div.sk-parallel-item {display: flex;flex-direction: column;z-index: 1;position: relative;background-color: white;}#sk-container-id-9 div.sk-parallel-item:first-child::after {align-self: flex-end;width: 50%;}#sk-container-id-9 div.sk-parallel-item:last-child::after {align-self: flex-start;width: 50%;}#sk-container-id-9 div.sk-parallel-item:only-child::after {width: 0;}#sk-container-id-9 div.sk-dashed-wrapped {border: 1px dashed gray;margin: 0 0.4em 0.5em 0.4em;box-sizing: border-box;padding-bottom: 0.4em;background-color: white;}#sk-container-id-9 div.sk-label label {font-family: monospace;font-weight: bold;display: inline-block;line-height: 1.2em;}#sk-container-id-9 div.sk-label-container {text-align: center;}#sk-container-id-9 div.sk-container {/* jupyter's `normalize.less` sets `[hidden] { display: none; }` but bootstrap.min.css set `[hidden] { display: none !important; }` so we also need the `!important` here to be able to override the default hidden behavior on the sphinx rendered scikit-learn.org. See: https://github.com/scikit-learn/scikit-learn/issues/21755 */display: inline-block !important;position: relative;}#sk-container-id-9 div.sk-text-repr-fallback {display: none;}</style><div id=\"sk-container-id-9\" class=\"sk-top-container\"><div class=\"sk-text-repr-fallback\"><pre>Pipeline(steps=[(&#x27;columntransformer&#x27;,\n",
       "                 ColumnTransformer(transformers=[(&#x27;Ordinal&#x27;, OrdinalEncoder(),\n",
       "                                                  [&#x27;sex&#x27;, &#x27;fbs&#x27;, &#x27;exang&#x27;]),\n",
       "                                                 (&#x27;OneHot&#x27;,\n",
       "                                                  OneHotEncoder(sparse=True),\n",
       "                                                  [&#x27;ca&#x27;, &#x27;thal&#x27;, &#x27;restecg&#x27;,\n",
       "                                                   &#x27;slope&#x27;, &#x27;cp&#x27;]),\n",
       "                                                 (&#x27;Normalisierung&#x27;,\n",
       "                                                  MinMaxScaler(),\n",
       "                                                  [&#x27;age&#x27;, &#x27;trestbps&#x27;, &#x27;chol&#x27;,\n",
       "                                                   &#x27;thalach&#x27;, &#x27;oldpeak&#x27;])])),\n",
       "                (&#x27;gaussiannb&#x27;, GaussianNB())])</pre><b>In a Jupyter environment, please rerun this cell to show the HTML representation or trust the notebook. <br />On GitHub, the HTML representation is unable to render, please try loading this page with nbviewer.org.</b></div><div class=\"sk-container\" hidden><div class=\"sk-item sk-dashed-wrapped\"><div class=\"sk-label-container\"><div class=\"sk-label sk-toggleable\"><input class=\"sk-toggleable__control sk-hidden--visually\" id=\"sk-estimator-id-73\" type=\"checkbox\" ><label for=\"sk-estimator-id-73\" class=\"sk-toggleable__label sk-toggleable__label-arrow\">Pipeline</label><div class=\"sk-toggleable__content\"><pre>Pipeline(steps=[(&#x27;columntransformer&#x27;,\n",
       "                 ColumnTransformer(transformers=[(&#x27;Ordinal&#x27;, OrdinalEncoder(),\n",
       "                                                  [&#x27;sex&#x27;, &#x27;fbs&#x27;, &#x27;exang&#x27;]),\n",
       "                                                 (&#x27;OneHot&#x27;,\n",
       "                                                  OneHotEncoder(sparse=True),\n",
       "                                                  [&#x27;ca&#x27;, &#x27;thal&#x27;, &#x27;restecg&#x27;,\n",
       "                                                   &#x27;slope&#x27;, &#x27;cp&#x27;]),\n",
       "                                                 (&#x27;Normalisierung&#x27;,\n",
       "                                                  MinMaxScaler(),\n",
       "                                                  [&#x27;age&#x27;, &#x27;trestbps&#x27;, &#x27;chol&#x27;,\n",
       "                                                   &#x27;thalach&#x27;, &#x27;oldpeak&#x27;])])),\n",
       "                (&#x27;gaussiannb&#x27;, GaussianNB())])</pre></div></div></div><div class=\"sk-serial\"><div class=\"sk-item sk-dashed-wrapped\"><div class=\"sk-label-container\"><div class=\"sk-label sk-toggleable\"><input class=\"sk-toggleable__control sk-hidden--visually\" id=\"sk-estimator-id-74\" type=\"checkbox\" ><label for=\"sk-estimator-id-74\" class=\"sk-toggleable__label sk-toggleable__label-arrow\">columntransformer: ColumnTransformer</label><div class=\"sk-toggleable__content\"><pre>ColumnTransformer(transformers=[(&#x27;Ordinal&#x27;, OrdinalEncoder(),\n",
       "                                 [&#x27;sex&#x27;, &#x27;fbs&#x27;, &#x27;exang&#x27;]),\n",
       "                                (&#x27;OneHot&#x27;, OneHotEncoder(sparse=True),\n",
       "                                 [&#x27;ca&#x27;, &#x27;thal&#x27;, &#x27;restecg&#x27;, &#x27;slope&#x27;, &#x27;cp&#x27;]),\n",
       "                                (&#x27;Normalisierung&#x27;, MinMaxScaler(),\n",
       "                                 [&#x27;age&#x27;, &#x27;trestbps&#x27;, &#x27;chol&#x27;, &#x27;thalach&#x27;,\n",
       "                                  &#x27;oldpeak&#x27;])])</pre></div></div></div><div class=\"sk-parallel\"><div class=\"sk-parallel-item\"><div class=\"sk-item\"><div class=\"sk-label-container\"><div class=\"sk-label sk-toggleable\"><input class=\"sk-toggleable__control sk-hidden--visually\" id=\"sk-estimator-id-75\" type=\"checkbox\" ><label for=\"sk-estimator-id-75\" class=\"sk-toggleable__label sk-toggleable__label-arrow\">Ordinal</label><div class=\"sk-toggleable__content\"><pre>[&#x27;sex&#x27;, &#x27;fbs&#x27;, &#x27;exang&#x27;]</pre></div></div></div><div class=\"sk-serial\"><div class=\"sk-item\"><div class=\"sk-estimator sk-toggleable\"><input class=\"sk-toggleable__control sk-hidden--visually\" id=\"sk-estimator-id-76\" type=\"checkbox\" ><label for=\"sk-estimator-id-76\" class=\"sk-toggleable__label sk-toggleable__label-arrow\">OrdinalEncoder</label><div class=\"sk-toggleable__content\"><pre>OrdinalEncoder()</pre></div></div></div></div></div></div><div class=\"sk-parallel-item\"><div class=\"sk-item\"><div class=\"sk-label-container\"><div class=\"sk-label sk-toggleable\"><input class=\"sk-toggleable__control sk-hidden--visually\" id=\"sk-estimator-id-77\" type=\"checkbox\" ><label for=\"sk-estimator-id-77\" class=\"sk-toggleable__label sk-toggleable__label-arrow\">OneHot</label><div class=\"sk-toggleable__content\"><pre>[&#x27;ca&#x27;, &#x27;thal&#x27;, &#x27;restecg&#x27;, &#x27;slope&#x27;, &#x27;cp&#x27;]</pre></div></div></div><div class=\"sk-serial\"><div class=\"sk-item\"><div class=\"sk-estimator sk-toggleable\"><input class=\"sk-toggleable__control sk-hidden--visually\" id=\"sk-estimator-id-78\" type=\"checkbox\" ><label for=\"sk-estimator-id-78\" class=\"sk-toggleable__label sk-toggleable__label-arrow\">OneHotEncoder</label><div class=\"sk-toggleable__content\"><pre>OneHotEncoder(sparse=True)</pre></div></div></div></div></div></div><div class=\"sk-parallel-item\"><div class=\"sk-item\"><div class=\"sk-label-container\"><div class=\"sk-label sk-toggleable\"><input class=\"sk-toggleable__control sk-hidden--visually\" id=\"sk-estimator-id-79\" type=\"checkbox\" ><label for=\"sk-estimator-id-79\" class=\"sk-toggleable__label sk-toggleable__label-arrow\">Normalisierung</label><div class=\"sk-toggleable__content\"><pre>[&#x27;age&#x27;, &#x27;trestbps&#x27;, &#x27;chol&#x27;, &#x27;thalach&#x27;, &#x27;oldpeak&#x27;]</pre></div></div></div><div class=\"sk-serial\"><div class=\"sk-item\"><div class=\"sk-estimator sk-toggleable\"><input class=\"sk-toggleable__control sk-hidden--visually\" id=\"sk-estimator-id-80\" type=\"checkbox\" ><label for=\"sk-estimator-id-80\" class=\"sk-toggleable__label sk-toggleable__label-arrow\">MinMaxScaler</label><div class=\"sk-toggleable__content\"><pre>MinMaxScaler()</pre></div></div></div></div></div></div></div></div><div class=\"sk-item\"><div class=\"sk-estimator sk-toggleable\"><input class=\"sk-toggleable__control sk-hidden--visually\" id=\"sk-estimator-id-81\" type=\"checkbox\" ><label for=\"sk-estimator-id-81\" class=\"sk-toggleable__label sk-toggleable__label-arrow\">GaussianNB</label><div class=\"sk-toggleable__content\"><pre>GaussianNB()</pre></div></div></div></div></div></div></div>"
      ],
      "text/plain": [
       "Pipeline(steps=[('columntransformer',\n",
       "                 ColumnTransformer(transformers=[('Ordinal', OrdinalEncoder(),\n",
       "                                                  ['sex', 'fbs', 'exang']),\n",
       "                                                 ('OneHot',\n",
       "                                                  OneHotEncoder(sparse=True),\n",
       "                                                  ['ca', 'thal', 'restecg',\n",
       "                                                   'slope', 'cp']),\n",
       "                                                 ('Normalisierung',\n",
       "                                                  MinMaxScaler(),\n",
       "                                                  ['age', 'trestbps', 'chol',\n",
       "                                                   'thalach', 'oldpeak'])])),\n",
       "                ('gaussiannb', GaussianNB())])"
      ]
     },
     "execution_count": 94,
     "metadata": {},
     "output_type": "execute_result"
    }
   ],
   "source": [
    "pipeline.fit(X_train, y_train)"
   ]
  },
  {
   "attachments": {},
   "cell_type": "markdown",
   "metadata": {},
   "source": [
    "Der Fit-Schritt darf NUR und ausschließlich nur auf Trainingsdaten erfolgen, da der Algorithmus auf diesen lernt wird und sich daran anpasst. Bei anderen Machine Learning Klassifikatoren/Modellen würde dann auf alle Daten, egal ob Test oder Training, noch ein '.transform(...)'-Anweisung erfolgen, um den gefitteten/angepassten Algorithmus auf den Daten anzuwenden und auszuführen."
   ]
  },
  {
   "cell_type": "code",
   "execution_count": 95,
   "metadata": {},
   "outputs": [],
   "source": [
    "y_pred = pipeline.predict(X_test)"
   ]
  },
  {
   "attachments": {},
   "cell_type": "markdown",
   "metadata": {},
   "source": [
    "Vorhersagen nach dem Lernen werden durch '.predict(...)' mit Übergabewert aufgerufen. Der Übergabewert ist in unserem Fall der Testdatensatz X.\n",
    "\n",
    "Durch die Funktion '.predict(...)' wird dann die Zielvariable aus den vorhergesagten Werten als 'y_pred' zurückgegeben. \n",
    "\n",
    "Wenn, wie in unserem Fall, alle Daten für y vorhanden sind, kann die Genauigkeit berechnet werden. Siehe erläuterung in Teil 4."
   ]
  },
  {
   "cell_type": "code",
   "execution_count": 96,
   "metadata": {},
   "outputs": [
    {
     "data": {
      "text/html": [
       "<style>#sk-container-id-10 {color: black;}#sk-container-id-10 pre{padding: 0;}#sk-container-id-10 div.sk-toggleable {background-color: white;}#sk-container-id-10 label.sk-toggleable__label {cursor: pointer;display: block;width: 100%;margin-bottom: 0;padding: 0.3em;box-sizing: border-box;text-align: center;}#sk-container-id-10 label.sk-toggleable__label-arrow:before {content: \"▸\";float: left;margin-right: 0.25em;color: #696969;}#sk-container-id-10 label.sk-toggleable__label-arrow:hover:before {color: black;}#sk-container-id-10 div.sk-estimator:hover label.sk-toggleable__label-arrow:before {color: black;}#sk-container-id-10 div.sk-toggleable__content {max-height: 0;max-width: 0;overflow: hidden;text-align: left;background-color: #f0f8ff;}#sk-container-id-10 div.sk-toggleable__content pre {margin: 0.2em;color: black;border-radius: 0.25em;background-color: #f0f8ff;}#sk-container-id-10 input.sk-toggleable__control:checked~div.sk-toggleable__content {max-height: 200px;max-width: 100%;overflow: auto;}#sk-container-id-10 input.sk-toggleable__control:checked~label.sk-toggleable__label-arrow:before {content: \"▾\";}#sk-container-id-10 div.sk-estimator input.sk-toggleable__control:checked~label.sk-toggleable__label {background-color: #d4ebff;}#sk-container-id-10 div.sk-label input.sk-toggleable__control:checked~label.sk-toggleable__label {background-color: #d4ebff;}#sk-container-id-10 input.sk-hidden--visually {border: 0;clip: rect(1px 1px 1px 1px);clip: rect(1px, 1px, 1px, 1px);height: 1px;margin: -1px;overflow: hidden;padding: 0;position: absolute;width: 1px;}#sk-container-id-10 div.sk-estimator {font-family: monospace;background-color: #f0f8ff;border: 1px dotted black;border-radius: 0.25em;box-sizing: border-box;margin-bottom: 0.5em;}#sk-container-id-10 div.sk-estimator:hover {background-color: #d4ebff;}#sk-container-id-10 div.sk-parallel-item::after {content: \"\";width: 100%;border-bottom: 1px solid gray;flex-grow: 1;}#sk-container-id-10 div.sk-label:hover label.sk-toggleable__label {background-color: #d4ebff;}#sk-container-id-10 div.sk-serial::before {content: \"\";position: absolute;border-left: 1px solid gray;box-sizing: border-box;top: 0;bottom: 0;left: 50%;z-index: 0;}#sk-container-id-10 div.sk-serial {display: flex;flex-direction: column;align-items: center;background-color: white;padding-right: 0.2em;padding-left: 0.2em;position: relative;}#sk-container-id-10 div.sk-item {position: relative;z-index: 1;}#sk-container-id-10 div.sk-parallel {display: flex;align-items: stretch;justify-content: center;background-color: white;position: relative;}#sk-container-id-10 div.sk-item::before, #sk-container-id-10 div.sk-parallel-item::before {content: \"\";position: absolute;border-left: 1px solid gray;box-sizing: border-box;top: 0;bottom: 0;left: 50%;z-index: -1;}#sk-container-id-10 div.sk-parallel-item {display: flex;flex-direction: column;z-index: 1;position: relative;background-color: white;}#sk-container-id-10 div.sk-parallel-item:first-child::after {align-self: flex-end;width: 50%;}#sk-container-id-10 div.sk-parallel-item:last-child::after {align-self: flex-start;width: 50%;}#sk-container-id-10 div.sk-parallel-item:only-child::after {width: 0;}#sk-container-id-10 div.sk-dashed-wrapped {border: 1px dashed gray;margin: 0 0.4em 0.5em 0.4em;box-sizing: border-box;padding-bottom: 0.4em;background-color: white;}#sk-container-id-10 div.sk-label label {font-family: monospace;font-weight: bold;display: inline-block;line-height: 1.2em;}#sk-container-id-10 div.sk-label-container {text-align: center;}#sk-container-id-10 div.sk-container {/* jupyter's `normalize.less` sets `[hidden] { display: none; }` but bootstrap.min.css set `[hidden] { display: none !important; }` so we also need the `!important` here to be able to override the default hidden behavior on the sphinx rendered scikit-learn.org. See: https://github.com/scikit-learn/scikit-learn/issues/21755 */display: inline-block !important;position: relative;}#sk-container-id-10 div.sk-text-repr-fallback {display: none;}</style><div id=\"sk-container-id-10\" class=\"sk-top-container\"><div class=\"sk-text-repr-fallback\"><pre>Pipeline(steps=[(&#x27;columntransformer&#x27;,\n",
       "                 ColumnTransformer(transformers=[(&#x27;Ordinal&#x27;, OrdinalEncoder(),\n",
       "                                                  [&#x27;sex&#x27;, &#x27;fbs&#x27;, &#x27;exang&#x27;]),\n",
       "                                                 (&#x27;OneHot&#x27;,\n",
       "                                                  OneHotEncoder(sparse=True),\n",
       "                                                  [&#x27;ca&#x27;, &#x27;thal&#x27;, &#x27;restecg&#x27;,\n",
       "                                                   &#x27;slope&#x27;, &#x27;cp&#x27;]),\n",
       "                                                 (&#x27;Normalisierung&#x27;,\n",
       "                                                  MinMaxScaler(),\n",
       "                                                  [&#x27;age&#x27;, &#x27;trestbps&#x27;, &#x27;chol&#x27;,\n",
       "                                                   &#x27;thalach&#x27;, &#x27;oldpeak&#x27;])])),\n",
       "                (&#x27;gaussiannb&#x27;, GaussianNB())])</pre><b>In a Jupyter environment, please rerun this cell to show the HTML representation or trust the notebook. <br />On GitHub, the HTML representation is unable to render, please try loading this page with nbviewer.org.</b></div><div class=\"sk-container\" hidden><div class=\"sk-item sk-dashed-wrapped\"><div class=\"sk-label-container\"><div class=\"sk-label sk-toggleable\"><input class=\"sk-toggleable__control sk-hidden--visually\" id=\"sk-estimator-id-82\" type=\"checkbox\" ><label for=\"sk-estimator-id-82\" class=\"sk-toggleable__label sk-toggleable__label-arrow\">Pipeline</label><div class=\"sk-toggleable__content\"><pre>Pipeline(steps=[(&#x27;columntransformer&#x27;,\n",
       "                 ColumnTransformer(transformers=[(&#x27;Ordinal&#x27;, OrdinalEncoder(),\n",
       "                                                  [&#x27;sex&#x27;, &#x27;fbs&#x27;, &#x27;exang&#x27;]),\n",
       "                                                 (&#x27;OneHot&#x27;,\n",
       "                                                  OneHotEncoder(sparse=True),\n",
       "                                                  [&#x27;ca&#x27;, &#x27;thal&#x27;, &#x27;restecg&#x27;,\n",
       "                                                   &#x27;slope&#x27;, &#x27;cp&#x27;]),\n",
       "                                                 (&#x27;Normalisierung&#x27;,\n",
       "                                                  MinMaxScaler(),\n",
       "                                                  [&#x27;age&#x27;, &#x27;trestbps&#x27;, &#x27;chol&#x27;,\n",
       "                                                   &#x27;thalach&#x27;, &#x27;oldpeak&#x27;])])),\n",
       "                (&#x27;gaussiannb&#x27;, GaussianNB())])</pre></div></div></div><div class=\"sk-serial\"><div class=\"sk-item sk-dashed-wrapped\"><div class=\"sk-label-container\"><div class=\"sk-label sk-toggleable\"><input class=\"sk-toggleable__control sk-hidden--visually\" id=\"sk-estimator-id-83\" type=\"checkbox\" ><label for=\"sk-estimator-id-83\" class=\"sk-toggleable__label sk-toggleable__label-arrow\">columntransformer: ColumnTransformer</label><div class=\"sk-toggleable__content\"><pre>ColumnTransformer(transformers=[(&#x27;Ordinal&#x27;, OrdinalEncoder(),\n",
       "                                 [&#x27;sex&#x27;, &#x27;fbs&#x27;, &#x27;exang&#x27;]),\n",
       "                                (&#x27;OneHot&#x27;, OneHotEncoder(sparse=True),\n",
       "                                 [&#x27;ca&#x27;, &#x27;thal&#x27;, &#x27;restecg&#x27;, &#x27;slope&#x27;, &#x27;cp&#x27;]),\n",
       "                                (&#x27;Normalisierung&#x27;, MinMaxScaler(),\n",
       "                                 [&#x27;age&#x27;, &#x27;trestbps&#x27;, &#x27;chol&#x27;, &#x27;thalach&#x27;,\n",
       "                                  &#x27;oldpeak&#x27;])])</pre></div></div></div><div class=\"sk-parallel\"><div class=\"sk-parallel-item\"><div class=\"sk-item\"><div class=\"sk-label-container\"><div class=\"sk-label sk-toggleable\"><input class=\"sk-toggleable__control sk-hidden--visually\" id=\"sk-estimator-id-84\" type=\"checkbox\" ><label for=\"sk-estimator-id-84\" class=\"sk-toggleable__label sk-toggleable__label-arrow\">Ordinal</label><div class=\"sk-toggleable__content\"><pre>[&#x27;sex&#x27;, &#x27;fbs&#x27;, &#x27;exang&#x27;]</pre></div></div></div><div class=\"sk-serial\"><div class=\"sk-item\"><div class=\"sk-estimator sk-toggleable\"><input class=\"sk-toggleable__control sk-hidden--visually\" id=\"sk-estimator-id-85\" type=\"checkbox\" ><label for=\"sk-estimator-id-85\" class=\"sk-toggleable__label sk-toggleable__label-arrow\">OrdinalEncoder</label><div class=\"sk-toggleable__content\"><pre>OrdinalEncoder()</pre></div></div></div></div></div></div><div class=\"sk-parallel-item\"><div class=\"sk-item\"><div class=\"sk-label-container\"><div class=\"sk-label sk-toggleable\"><input class=\"sk-toggleable__control sk-hidden--visually\" id=\"sk-estimator-id-86\" type=\"checkbox\" ><label for=\"sk-estimator-id-86\" class=\"sk-toggleable__label sk-toggleable__label-arrow\">OneHot</label><div class=\"sk-toggleable__content\"><pre>[&#x27;ca&#x27;, &#x27;thal&#x27;, &#x27;restecg&#x27;, &#x27;slope&#x27;, &#x27;cp&#x27;]</pre></div></div></div><div class=\"sk-serial\"><div class=\"sk-item\"><div class=\"sk-estimator sk-toggleable\"><input class=\"sk-toggleable__control sk-hidden--visually\" id=\"sk-estimator-id-87\" type=\"checkbox\" ><label for=\"sk-estimator-id-87\" class=\"sk-toggleable__label sk-toggleable__label-arrow\">OneHotEncoder</label><div class=\"sk-toggleable__content\"><pre>OneHotEncoder(sparse=True)</pre></div></div></div></div></div></div><div class=\"sk-parallel-item\"><div class=\"sk-item\"><div class=\"sk-label-container\"><div class=\"sk-label sk-toggleable\"><input class=\"sk-toggleable__control sk-hidden--visually\" id=\"sk-estimator-id-88\" type=\"checkbox\" ><label for=\"sk-estimator-id-88\" class=\"sk-toggleable__label sk-toggleable__label-arrow\">Normalisierung</label><div class=\"sk-toggleable__content\"><pre>[&#x27;age&#x27;, &#x27;trestbps&#x27;, &#x27;chol&#x27;, &#x27;thalach&#x27;, &#x27;oldpeak&#x27;]</pre></div></div></div><div class=\"sk-serial\"><div class=\"sk-item\"><div class=\"sk-estimator sk-toggleable\"><input class=\"sk-toggleable__control sk-hidden--visually\" id=\"sk-estimator-id-89\" type=\"checkbox\" ><label for=\"sk-estimator-id-89\" class=\"sk-toggleable__label sk-toggleable__label-arrow\">MinMaxScaler</label><div class=\"sk-toggleable__content\"><pre>MinMaxScaler()</pre></div></div></div></div></div></div></div></div><div class=\"sk-item\"><div class=\"sk-estimator sk-toggleable\"><input class=\"sk-toggleable__control sk-hidden--visually\" id=\"sk-estimator-id-90\" type=\"checkbox\" ><label for=\"sk-estimator-id-90\" class=\"sk-toggleable__label sk-toggleable__label-arrow\">GaussianNB</label><div class=\"sk-toggleable__content\"><pre>GaussianNB()</pre></div></div></div></div></div></div></div>"
      ],
      "text/plain": [
       "Pipeline(steps=[('columntransformer',\n",
       "                 ColumnTransformer(transformers=[('Ordinal', OrdinalEncoder(),\n",
       "                                                  ['sex', 'fbs', 'exang']),\n",
       "                                                 ('OneHot',\n",
       "                                                  OneHotEncoder(sparse=True),\n",
       "                                                  ['ca', 'thal', 'restecg',\n",
       "                                                   'slope', 'cp']),\n",
       "                                                 ('Normalisierung',\n",
       "                                                  MinMaxScaler(),\n",
       "                                                  ['age', 'trestbps', 'chol',\n",
       "                                                   'thalach', 'oldpeak'])])),\n",
       "                ('gaussiannb', GaussianNB())])"
      ]
     },
     "execution_count": 96,
     "metadata": {},
     "output_type": "execute_result"
    }
   ],
   "source": [
    "pipeline"
   ]
  },
  {
   "attachments": {},
   "cell_type": "markdown",
   "metadata": {},
   "source": [
    "Wenn man einfach nur die Pipeline ausgibt, sieht man alle Pipeline Schritte und was ich gemacht habe."
   ]
  },
  {
   "attachments": {},
   "cell_type": "markdown",
   "metadata": {},
   "source": [
    "### Teil 4: Evaluation (5 Punkte)\n",
    "\n",
    "Evaluieren Sie Ihr Modell (Pipeline), indem Sie die Klassifikationsgenauigkeit (Accuracy) und die Confusion Matrix auf den Testdaten bestimmen.\n",
    "\n",
    "Interpretieren Sie die Ergebnisse in Bezug auf die Problemstellung (schriftlich).\n",
    "\n",
    "(Hinweis: Bevor Sie die Klassifikationsgenauigkeit bzw. die Confusion matrix Ihres Modells bestimmen können, müssen Sie es natürlich erst noch trainieren.)"
   ]
  },
  {
   "attachments": {},
   "cell_type": "markdown",
   "metadata": {},
   "source": [
    "Für die Bestimmung der Genauigkeit verwende ich die Funktion 'accuracy_score' aus 'sklearn.metrics', um die Genauigkeit meines Modells zu testen. Dafür übergebe ich 'accuracy_score' die vorhergesagten y-Werte und die tatsächliche Lösung.  "
   ]
  },
  {
   "cell_type": "code",
   "execution_count": 97,
   "metadata": {},
   "outputs": [
    {
     "name": "stdout",
     "output_type": "stream",
     "text": [
      "90.3226% Accuracy\n"
     ]
    }
   ],
   "source": [
    "from sklearn.metrics import accuracy_score\n",
    "\n",
    "print(f'{round(accuracy_score(y_test,y_pred)*100,4)}% Accuracy')"
   ]
  },
  {
   "attachments": {},
   "cell_type": "markdown",
   "metadata": {},
   "source": [
    "Die Genauigkeit beträgt 90,32% und wird aus den Fehlern der Vorhersagen im vergleich zu den tatsächlichen Lösungen berechnet. Im Grunde ist dies die Warscheinlichkeit, mit der das Modell/der Algorithmus richtige Aussagen trifft. Auf 100 Personen würden etwa 90 Personen richtige Untersuchungsergebnisse erhalten. Der Fehler hingegen gibt an, dass etwa 10 Personen ein falsches Ergebnis erhalten würden. "
   ]
  },
  {
   "attachments": {},
   "cell_type": "markdown",
   "metadata": {},
   "source": [
    "Die Confusion Matrix und das anzeigen der Matrix als Plot kann über 'sklearn.metrics' importiert werden."
   ]
  },
  {
   "cell_type": "code",
   "execution_count": 98,
   "metadata": {},
   "outputs": [],
   "source": [
    "from sklearn.metrics import ConfusionMatrixDisplay, confusion_matrix\n",
    "\n",
    "cm = confusion_matrix(y_test, y_pred)\n",
    "disp = ConfusionMatrixDisplay(cm, display_labels=pipeline.classes_)"
   ]
  },
  {
   "attachments": {},
   "cell_type": "markdown",
   "metadata": {},
   "source": [
    "cm wird als neue Variable deklariert und erhält die Werte, die beim Aufruf von der Confusion Matrix mit den Vorhergesagten Werten plus die Überprüfung anhand der Lösung zurückgegeben werden. Durch ConfusionMatrixDisplay(...) mit Übergabe der Werte aus der Confusionsmatrix und die Labels dazu, kann nun diese geplottet/geprintet werden. Dafür wird nunoch der '.plot()' Aufruf benötigt."
   ]
  },
  {
   "cell_type": "code",
   "execution_count": 99,
   "metadata": {},
   "outputs": [
    {
     "data": {
      "text/plain": [
       "<sklearn.metrics._plot.confusion_matrix.ConfusionMatrixDisplay at 0x16df6b5d6a0>"
      ]
     },
     "execution_count": 99,
     "metadata": {},
     "output_type": "execute_result"
    },
    {
     "data": {
      "image/png": "[encoded data removed]",
      "text/plain": [
       "<Figure size 640x480 with 2 Axes>"
      ]
     },
     "metadata": {},
     "output_type": "display_data"
    }
   ],
   "source": [
    "disp.plot()"
   ]
  },
  {
   "attachments": {},
   "cell_type": "markdown",
   "metadata": {},
   "source": [
    "Anhand der Confusionsmatrix wird deutlich, dass von 31 Vorhersagen 15 Personen richtig als hohes Risiko und 13 Personen richtig als niedriges Risiko klassifiziert wurden. Leider gibt es auch fehlerhafte Kassifizierungen, bei denen Personen fälschlicherweise als hohes Risiko eingestuft wurden, obwohl sie ein niedriges Risiko haben. Die Anzahl solcher falschen Klassifikationen beträgt 3."
   ]
  },
  {
   "attachments": {},
   "cell_type": "markdown",
   "metadata": {},
   "source": [
    "Würde hier die Accuracy berechnet werden, würde diese wie oben berechnet mit 'accuracy_score' bei 90,32% liegen."
   ]
  },
  {
   "attachments": {},
   "cell_type": "markdown",
   "metadata": {},
   "source": [
    "Aus den falsch positiven und falsch negativen Ergebnis geht hervor, dass mehr Personen mit einem niedrigen Risiko für einen Herzinfarkt falsch als hohes Risiko klassifiziert wurden, anstatt andersherum.\n",
    "\n",
    "Dies ist eher unbedenklich, da bei einem hohen Risiko die Arztpraxis die betroffene Person mehr Beachtung schenken müsste, um auf das Schlimmste vorbereitet zu sein und einen Herzinfarkt zu vermeiden. Prinzip: Lieber einmal zu viel Warnen als einmal zu wenig!"
   ]
  }
 ],
 "metadata": {
  "kernelspec": {
   "display_name": "Python 3",
   "language": "python",
   "name": "python3"
  },
  "language_info": {
   "codemirror_mode": {
    "name": "ipython",
    "version": 3
   },
   "file_extension": ".py",
   "mimetype": "text/x-python",
   "name": "python",
   "nbconvert_exporter": "python",
   "pygments_lexer": "ipython3",
   "version": "3.9.18"
  }
 },
 "nbformat": 4,
 "nbformat_minor": 4
}
